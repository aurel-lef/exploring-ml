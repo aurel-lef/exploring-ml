{
 "cells": [
  {
   "cell_type": "markdown",
   "metadata": {},
   "source": [
    "# DataSet acquisition"
   ]
  },
  {
   "cell_type": "code",
   "execution_count": 2,
   "metadata": {},
   "outputs": [
    {
     "name": "stdout",
     "output_type": "stream",
     "text": [
      "PassengerId,Survived,Pclass,Name,Sex,Age,SibSp,Parch,Ticket,Fare,Cabin,Embarked\n",
      "1,0,3,\"Braund, Mr. Owen Harris\",male,22,1,0,A/5 21171,7.25,,S\n",
      "2,1,1,\"Cumings, Mrs. John Bradley (Florence Briggs Thayer)\",female,38,1,0,PC 17599,71.2833,C85,C\n"
     ]
    }
   ],
   "source": [
    "!powershell Get-Content \"../data/train.csv\" -Head 3"
   ]
  },
  {
   "cell_type": "code",
   "execution_count": 210,
   "metadata": {
    "scrolled": true
   },
   "outputs": [
    {
     "name": "stdout",
     "output_type": "stream",
     "text": [
      "+-----------+--------+------+--------------------+------+----+-----+-----+----------------+-------+-----+--------+\n",
      "|PassengerId|Survived|Pclass|                Name|   Sex| Age|SibSp|Parch|          Ticket|   Fare|Cabin|Embarked|\n",
      "+-----------+--------+------+--------------------+------+----+-----+-----+----------------+-------+-----+--------+\n",
      "|          1|       0|     3|Braund, Mr. Owen ...|  male|22.0|    1|    0|       A/5 21171|   7.25| null|       S|\n",
      "|          2|       1|     1|Cumings, Mrs. Joh...|female|38.0|    1|    0|        PC 17599|71.2833|  C85|       C|\n",
      "|          3|       1|     3|Heikkinen, Miss. ...|female|26.0|    0|    0|STON/O2. 3101282|  7.925| null|       S|\n",
      "|          4|       1|     1|Futrelle, Mrs. Ja...|female|35.0|    1|    0|          113803|   53.1| C123|       S|\n",
      "|          5|       0|     3|Allen, Mr. Willia...|  male|35.0|    0|    0|          373450|   8.05| null|       S|\n",
      "+-----------+--------+------+--------------------+------+----+-----+-----+----------------+-------+-----+--------+\n",
      "only showing top 5 rows\n",
      "\n"
     ]
    }
   ],
   "source": [
    "from pyspark.sql import SparkSession, DataFrame\n",
    "\n",
    "spark = ( SparkSession.builder\n",
    "    .master(\"local\")\n",
    "    .appName(\"titanic\")\n",
    "    .getOrCreate()\n",
    ")\n",
    "\n",
    "train_df = spark.read.csv(\n",
    "    \"../data/train.csv\", \n",
    "    header = True,\n",
    "    inferSchema = True\n",
    ")\n",
    "train_df.show(5)"
   ]
  },
  {
   "cell_type": "markdown",
   "metadata": {},
   "source": [
    "# Feature engineering and preprocessing"
   ]
  },
  {
   "cell_type": "code",
   "execution_count": 212,
   "metadata": {
    "scrolled": false
   },
   "outputs": [
    {
     "name": "stdout",
     "output_type": "stream",
     "text": [
      "+-----------+--------+------+--------------------+------+----+-----+-----+------+------+-----+--------+-------------------+-----+--------------+-----------+----------------+-------------+--------------+-------------+----------------+-------------+---------+--------------------+------------------+\n",
      "|PassengerId|Survived|Pclass|                Name|   Sex| Age|SibSp|Parch|Ticket|  Fare|Cabin|Embarked|Accompanied_encoded|Title|Pclass_indexed|Sex_indexed|Embarked_indexed|Title_indexed|Pclass_encoded|  Sex_encoded|Embarked_encoded|Title_encoded|Fare_vect|            Fare_std|       Age_imputed|\n",
      "+-----------+--------+------+--------------------+------+----+-----+-----+------+------+-----+--------+-------------------+-----+--------------+-----------+----------------+-------------+--------------+-------------+----------------+-------------+---------+--------------------+------------------+\n",
      "|          6|       0|     3|    Moran, Mr. James|  male|null|    0|    0|330877|8.4583| null|       Q|                  0|  Mr.|           0.0|        0.0|             2.0|          0.0| (3,[0],[1.0])|(2,[0],[1.0])|   (3,[2],[1.0])|(7,[0],[1.0])| [8.4583]|[-0.4778480503138...|26.497742339152797|\n",
      "|         18|       1|     2|Williams, Mr. Cha...|  male|null|    0|    0|244373|  13.0| null|       S|                  0|  Mr.|           2.0|        0.0|             0.0|          0.0| (3,[2],[1.0])|(2,[0],[1.0])|   (3,[0],[1.0])|(7,[0],[1.0])|   [13.0]|[-0.3864536722600...| 31.81582649258425|\n",
      "|         20|       1|     3|Masselmani, Mrs. ...|female|null|    0|    0|  2649| 7.225| null|       C|                  0| Mrs.|           0.0|        1.0|             1.0|          2.0| (3,[0],[1.0])|(2,[1],[1.0])|   (3,[1],[1.0])|(7,[2],[1.0])|  [7.225]|[-0.5026662211428...|21.982979570371622|\n",
      "|         27|       0|     3|Emir, Mr. Farred ...|  male|null|    0|    0|  2631| 7.225| null|       C|                  0|  Mr.|           0.0|        0.0|             1.0|          0.0| (3,[0],[1.0])|(2,[0],[1.0])|   (3,[1],[1.0])|(7,[0],[1.0])|  [7.225]|[-0.5026662211428...|26.497742339152797|\n",
      "|         29|       1|     3|\"O'Dwyer, Miss. E...|female|null|    0|    0|330959|7.8792| null|       Q|                  0|Miss.|           0.0|        1.0|             2.0|          1.0| (3,[0],[1.0])|(2,[1],[1.0])|   (3,[2],[1.0])|(7,[1],[1.0])| [7.8792]|[-0.4895015026182...|21.982979570371622|\n",
      "+-----------+--------+------+--------------------+------+----+-----+-----+------+------+-----+--------+-------------------+-----+--------------+-----------+----------------+-------------+--------------+-------------+----------------+-------------+---------+--------------------+------------------+\n",
      "only showing top 5 rows\n",
      "\n"
     ]
    }
   ],
   "source": [
    "import re\n",
    "from pyspark.sql.functions import regexp_extract, udf\n",
    "from pyspark.ml.feature import OneHotEncoder, StringIndexer, StandardScaler, VectorAssembler\n",
    "from pyspark.ml import Pipeline, Transformer, Estimator, Model\n",
    "from pyspark.sql.types import IntegerType, DoubleType\n",
    "from pyspark.ml.regression import LinearRegression\n",
    "from pyspark.ml.linalg import Vectors\n",
    "\n",
    "class ExtractAccompaniedFeature(Transformer):\n",
    "    def transform(self, dataset, params=None):\n",
    "        return dataset.withColumn(\n",
    "            \"Accompanied_encoded\", \n",
    "            (dataset.SibSp + dataset.Parch >= 1).cast(IntegerType()) \n",
    "        )\n",
    "\n",
    "class HandleMissingEmbarked(Estimator):\n",
    "    def fit(self, dataset, params=None):\n",
    "        mostFrequentValue = (dataset.groupby(\"Embarked\")\n",
    "                             .count()\n",
    "                             .orderBy(\"count\", ascending=False)\n",
    "                             .first()\n",
    "                             .Embarked\n",
    "                            )\n",
    "        return HandleMissingEmbarkedModel(mostFrequentValue)\n",
    "        \n",
    "class HandleMissingEmbarkedModel(Model):\n",
    "    \n",
    "    def __init__(self, mostFrequentValue):\n",
    "        self.mostFrequentValue = mostFrequentValue\n",
    "        \n",
    "    def transform(self, dataset, params=None):\n",
    "        return dataset.fillna(self.mostFrequentValue, \"Embarked\")\n",
    "\n",
    "@udf(returnType=StringType())\n",
    "def replace_title(s):\n",
    "    mrs_pattern = \"(Mme\\.|Ms\\.|Countess\\.|Lady\\.)\"\n",
    "    miss_pattern = \"(Mlle\\.)\"\n",
    "    mr_pattern = \"(Don\\.|Major\\.|Sir\\.|Col\\.|Capt\\.)\"\n",
    "    if re.search(mrs_pattern, s):\n",
    "        return re.sub(mrs_pattern, \"Mrs.\", s)\n",
    "    if re.search(miss_pattern, s):\n",
    "        return re.sub(miss_pattern, \"Miss.\", s)\n",
    "    if re.search(mr_pattern, s):\n",
    "        return re.sub(mr_pattern, \"Mr.\", s)\n",
    "    return s\n",
    "\n",
    "@udf\n",
    "def replace_empty(s):\n",
    "    if s == \"\":\n",
    "        return \"No-Title\"\n",
    "    return s\n",
    "\n",
    "class ExtractTitle(Transformer):\n",
    "    def transform(self, dataset, params=None):\n",
    "        titles_extract_pattern = r'(Mr\\.|Mrs\\.|Miss\\.|Master\\.|Dr\\.|Rev\\.)'\n",
    "        return ( dataset.withColumn(\"Title\", regexp_extract(\"Name\", titles_extract_pattern, 1))\n",
    "                .withColumn(\"Title\", replace_empty(\"Title\"))\n",
    "               )\n",
    "\n",
    "class HandleMissingAge(Estimator):\n",
    "    def __init__(self):\n",
    "        vect = VectorAssembler(\n",
    "            inputCols = [\"Pclass_encoded\", \"Sex_encoded\"], \n",
    "            outputCol='features_class_sex'\n",
    "        )\n",
    "        \n",
    "        lr = LinearRegression(\n",
    "            featuresCol=\"features_class_sex\",\n",
    "            labelCol='Age',\n",
    "            predictionCol='Age_imputed',\n",
    "            regParam = 0.3\n",
    "        )\n",
    "\n",
    "        self.pipe = Pipeline(\n",
    "            stages = [\n",
    "                vect,\n",
    "                lr\n",
    "            ])\n",
    "\n",
    "\n",
    "    def fit(self, dataset, params=None):\n",
    "        dataset_without_missing = dataset.where(col(\"Age\").isNotNull())\n",
    "        ageRegressor = self.pipe.fit(dataset_without_missing)\n",
    "        return HandleMissingAgeModel(ageRegressor)\n",
    "\n",
    "    \n",
    "class HandleMissingAgeModel(Model):\n",
    "    \n",
    "    def __init__(self, ageRegressor):\n",
    "        self.ageRegressor = ageRegressor\n",
    "        \n",
    "    def transform(self, dataset, params=None):\n",
    "        null_age_df = dataset.where(col(\"Age\").isNull())\n",
    "        not_null_age_df = dataset.where(col(\"Age\").isNotNull())\n",
    "\n",
    "        not_null_age_df = (\n",
    "            self.ageRegressor\n",
    "            .transform(null_age_df)\n",
    "            .drop(\"features_class_sex\")\n",
    "        )\n",
    "            \n",
    "        return not_null_age_df.union(\n",
    "            not_null_age_df.withColumn(\"Age_imputed\", col(\"Age\"))\n",
    "        )\n",
    "    \n",
    "pipe = Pipeline(\n",
    "    stages = [\n",
    "        ExtractAccompaniedFeature(),\n",
    "        ExtractTitle(),\n",
    "        HandleMissingEmbarked(),\n",
    "        StringIndexer(inputCol = \"Pclass\", outputCol='Pclass_indexed'),\n",
    "        StringIndexer(inputCol = \"Sex\", outputCol='Sex_indexed'),\n",
    "        StringIndexer(inputCol = \"Embarked\", outputCol='Embarked_indexed'),\n",
    "        StringIndexer(inputCol = \"Title\", outputCol='Title_indexed'),\n",
    "        OneHotEncoder(inputCol = \"Pclass_indexed\", outputCol='Pclass_encoded', handleInvalid='keep'),\n",
    "        OneHotEncoder(inputCol = \"Sex_indexed\", outputCol='Sex_encoded', handleInvalid='keep'),\n",
    "        OneHotEncoder(inputCol = \"Embarked_indexed\", outputCol='Embarked_encoded', handleInvalid='keep'),\n",
    "        OneHotEncoder(inputCol = \"Title_indexed\", outputCol='Title_encoded', handleInvalid='keep'),\n",
    "        VectorAssembler(inputCols = [\"Fare\"], outputCol='Fare_vect'),\n",
    "        StandardScaler(withMean = True, inputCol = \"Fare_vect\", outputCol='Fare_std'),\n",
    "        HandleMissingAge()\n",
    "])\n",
    "\n",
    "transformed = pipe.fit(train_df).transform(train_df)\n",
    "transformed.show(5)"
   ]
  }
 ],
 "metadata": {
  "kernelspec": {
   "display_name": "Python 3",
   "language": "python",
   "name": "python3"
  },
  "language_info": {
   "codemirror_mode": {
    "name": "ipython",
    "version": 3
   },
   "file_extension": ".py",
   "mimetype": "text/x-python",
   "name": "python",
   "nbconvert_exporter": "python",
   "pygments_lexer": "ipython3",
   "version": "3.8.5"
  }
 },
 "nbformat": 4,
 "nbformat_minor": 4
}
